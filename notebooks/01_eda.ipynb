{
 "cells": [
  {
   "cell_type": "markdown",
   "id": "58e33497",
   "metadata": {},
   "source": [
    "importing libraries"
   ]
  },
  {
   "cell_type": "code",
   "execution_count": null,
   "id": "4696ba2a",
   "metadata": {},
   "outputs": [],
   "source": [
    "import pandas as pd\n",
    "import numpy as np\n",
    "import matplotlib.pyplot as plt\n",
    "import seaborn as sns\n",
    "df = pd.read_csv(\"../data/raw/heart_disease_encoded.csv\")\n",
    "df"
   ]
  },
  {
   "cell_type": "markdown",
   "id": "9e972dae",
   "metadata": {},
   "source": [
    "Exploratory data analysis"
   ]
  },
  {
   "cell_type": "code",
   "execution_count": null,
   "id": "0c0c184d",
   "metadata": {},
   "outputs": [],
   "source": [
    "# data inspection ->\n",
    "\n",
    "print(df.shape)\n",
    "print(df.dtypes)\n",
    "print(df.isna().sum())"
   ]
  },
  {
   "cell_type": "code",
   "execution_count": null,
   "id": "11522237",
   "metadata": {},
   "outputs": [],
   "source": [
    "# UNIVARIATE ANALYSIS ->\n",
    "# distribution of various features used in the model ->\n",
    "# countplots for categorical features and histplots for continous features ->"
   ]
  },
  {
   "cell_type": "code",
   "execution_count": null,
   "id": "0f28e2be",
   "metadata": {},
   "outputs": [],
   "source": [
    "# ploting categorical features ->\n",
    "\n",
    "# function to make countplots for categorical features\n",
    "def plot_categorical_feature(feature,df):\n",
    "    plt.figure(figsize=(5,5))\n",
    "    ax = sns.countplot(x=feature,data=df)\n",
    "    plt.title(f'{feature} distribution')\n",
    "    plt.show()\n",
    "\n",
    "# categorical features -> sex, cp, fbs, restecg, exang, slope, ca, thal, target\n",
    "cat_features = ['sex','cp','fbs','restecg','exang','slope','ca','thal','num(target)']\n",
    "for f in cat_features:\n",
    "    plot_categorical_feature(f,df)"
   ]
  },
  {
   "cell_type": "code",
   "execution_count": null,
   "id": "590b735a",
   "metadata": {},
   "outputs": [],
   "source": [
    "# plotting continuous features ->\n",
    "\n",
    "# function to make histplots for continuous features ->\n",
    "def plot_continuous_feature(feature,df):\n",
    "    plt.figure(figsize=(5,5))\n",
    "    ax = sns.histplot(df[feature],kde=True)\n",
    "    plt.title(f'{feature} distribution')\n",
    "    plt.show()\n",
    "\n",
    "# continuous features -> age, trestbps, chol, thalch, oldpeak\n",
    "cont_features = ['age','trestbps','chol','thalch','oldpeak']\n",
    "for f in cont_features:\n",
    "    plot_continuous_feature(f,df)"
   ]
  }
 ],
 "metadata": {
  "kernelspec": {
   "display_name": "my_env_312",
   "language": "python",
   "name": "python3"
  },
  "language_info": {
   "codemirror_mode": {
    "name": "ipython",
    "version": 3
   },
   "file_extension": ".py",
   "mimetype": "text/x-python",
   "name": "python",
   "nbconvert_exporter": "python",
   "pygments_lexer": "ipython3",
   "version": "3.12.11"
  }
 },
 "nbformat": 4,
 "nbformat_minor": 5
}
