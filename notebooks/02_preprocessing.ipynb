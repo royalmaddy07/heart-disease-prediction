{
 "cells": [
  {
   "cell_type": "markdown",
   "id": "81e13c84",
   "metadata": {},
   "source": [
    "Import Libraries"
   ]
  },
  {
   "cell_type": "code",
   "execution_count": 2,
   "id": "16c55d72",
   "metadata": {},
   "outputs": [],
   "source": [
    "import pandas as pd\n",
    "import numpy as np\n",
    "import matplotlib.pyplot as plt\n",
    "import seaborn as sns\n",
    "import sklearn"
   ]
  },
  {
   "cell_type": "markdown",
   "id": "9e522d0e",
   "metadata": {},
   "source": [
    "Data Preprocessing"
   ]
  },
  {
   "cell_type": "code",
   "execution_count": 17,
   "id": "dce5a251",
   "metadata": {},
   "outputs": [],
   "source": [
    "# data collection ->\n",
    "\n",
    "df = pd.read_csv(\"../data/raw/heart_disease_encoded.csv\")\n",
    "\n",
    "# 0. removing un-necessary features -> \n",
    "\n",
    "df = df.drop(columns=['id']) # id does not carry any meaningful information for model training"
   ]
  },
  {
   "cell_type": "code",
   "execution_count": null,
   "id": "f7156d93",
   "metadata": {},
   "outputs": [],
   "source": [
    "# 1. HANDLING MISSING VALUES(NaN) ->\n",
    "\n",
    "df.isna().sum() # o/p -> number of missing values for each column\n",
    "# result : the following columns have missing values -> \n",
    "# trestbps, chol, fbs, restecg, thalch, exang, oldpeak, slope, ca, thal\n",
    "\n",
    "missing_features = ['trestbps','chol','fbs','restecg','thalch','exang','oldpeak','slope','ca','thal']\n",
    "categorical_features = ['sex', 'cp', 'fbs', 'restecg', 'exang', 'slope', 'ca', 'thal', 'target']\n",
    "continuous_features = ['age', 'trestbps', 'chol', 'thalch', 'oldpeak']\n",
    "\n",
    "\n",
    "# CONTEXT -> in the images directory you can check in the univariate analysis folder that non of the\n",
    "#            features follow normal distribution. \n",
    "# INFERENCE -> median -> measure of central tendency for continuous features\n",
    "#              mode -> measure of central tendency for categorical features\n",
    "\n",
    "# function to handle missing values ->\n",
    "def fill_missing_values(df,categorical_f,continuous_f):\n",
    "    for feature in df.columns:\n",
    "        if(feature in categorical_f):\n",
    "            df[feature] = df[feature].fillna(value=df[feature].mode()[0])\n",
    "        elif(feature in continuous_f) :\n",
    "            df[feature] = df[feature].fillna(value=df[feature].median())\n",
    "\n",
    "fill_missing_values(df,categorical_features,continuous_features)\n",
    "\n",
    "df.isna().sum()"
   ]
  },
  {
   "cell_type": "code",
   "execution_count": null,
   "id": "3d8c81ec",
   "metadata": {},
   "outputs": [],
   "source": [
    "# 2. DROPING ANY DUPLICATE ROWS IN THE df ->\n",
    "print(df.shape)\n",
    "# originally -> there were 920 rows\n",
    "df = df.drop_duplicates()\n",
    "print(df.shape)\n",
    "# current -> there are 918 rows -> 2 duplicate rows are dropped"
   ]
  },
  {
   "cell_type": "code",
   "execution_count": null,
   "id": "d2dd0fe5",
   "metadata": {},
   "outputs": [],
   "source": [
    "# 3. "
   ]
  }
 ],
 "metadata": {
  "kernelspec": {
   "display_name": "my_env_312",
   "language": "python",
   "name": "python3"
  },
  "language_info": {
   "codemirror_mode": {
    "name": "ipython",
    "version": 3
   },
   "file_extension": ".py",
   "mimetype": "text/x-python",
   "name": "python",
   "nbconvert_exporter": "python",
   "pygments_lexer": "ipython3",
   "version": "3.12.11"
  }
 },
 "nbformat": 4,
 "nbformat_minor": 5
}
