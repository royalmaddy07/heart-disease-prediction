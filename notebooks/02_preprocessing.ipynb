{
 "cells": [
  {
   "cell_type": "markdown",
   "id": "81e13c84",
   "metadata": {},
   "source": [
    "Import Libraries"
   ]
  },
  {
   "cell_type": "code",
   "execution_count": 1,
   "id": "16c55d72",
   "metadata": {},
   "outputs": [],
   "source": [
    "import pandas as pd\n",
    "import numpy as np\n",
    "import matplotlib.pyplot as plt\n",
    "import seaborn as sns\n",
    "import sklearn"
   ]
  },
  {
   "cell_type": "markdown",
   "id": "9e522d0e",
   "metadata": {},
   "source": [
    "Data Preprocessing"
   ]
  },
  {
   "cell_type": "code",
   "execution_count": null,
   "id": "f7156d93",
   "metadata": {},
   "outputs": [],
   "source": [
    "# 0. data collection ->\n",
    "\n",
    "df = pd.read_csv(\"../data/heart_disease_dataset.csv\")\n",
    "df.dtypes\n",
    "\n",
    "# 1. HANDLING MISSING VALUES(NaN) ->\n",
    "\n",
    "df.isna().sum() # o/p -> number of missing values for each column\n",
    "# result : the following columns have missing values -> \n",
    "# trestbps, chol, fbs, restecg, thalch, exang, oldpeak, slope, ca, thal\n",
    "\n",
    "# trestbps is not in normal distribution and is continuous feature ->\n",
    "df['trestbps'] = df['trestbps'].fillna(value=df['trestbps'].median())# replace NaN with median\n",
    "df.isna().sum() \n",
    "\n",
    "# chol is not in normal distribution and is a continuous feature ->\n",
    "df['chol'] = df['chol'].fillna(value=df['chol'].median())# replace NaN with median\n",
    "df.isna().sum()\n",
    "\n",
    "# fbs is a categorical feature ->\n",
    "df['fbs'].value_counts(normalize=True)# proportion of fbs = 0.0 -> 0.8337 and of 1.0 -> 0.1662\n",
    "df['fbs'] = df['fbs'].fillna(value=0.0)\n",
    "df.isna().sum()\n",
    "\n",
    "# restecg is a categorical feature ->\n",
    "df['restecg'].value_counts(normalize=True)# proportion of restecg = 0.0 -> 0.6002\n",
    "df['restecg'] = df['restecg'].fillna(value=0.0)\n",
    "df.isna().sum()\n",
    "\n",
    "# thalch is not in normal distribution and is a continuous feature ->\n"
   ]
  }
 ],
 "metadata": {
  "kernelspec": {
   "display_name": "my_env_312",
   "language": "python",
   "name": "python3"
  },
  "language_info": {
   "codemirror_mode": {
    "name": "ipython",
    "version": 3
   },
   "file_extension": ".py",
   "mimetype": "text/x-python",
   "name": "python",
   "nbconvert_exporter": "python",
   "pygments_lexer": "ipython3",
   "version": "3.12.11"
  }
 },
 "nbformat": 4,
 "nbformat_minor": 5
}
